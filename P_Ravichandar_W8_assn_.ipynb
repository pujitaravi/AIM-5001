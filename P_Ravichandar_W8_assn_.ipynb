{
 "cells": [
  {
   "cell_type": "markdown",
   "metadata": {},
   "source": [
    "# Week 8 Assignment: Regular Expressions\n",
    "Pujita Ravichandar"
   ]
  },
  {
   "cell_type": "code",
   "execution_count": 333,
   "metadata": {},
   "outputs": [],
   "source": [
    "#load the re module\n",
    "import re"
   ]
  },
  {
   "cell_type": "markdown",
   "metadata": {},
   "source": [
    "## Question 1\n",
    "\n",
    "Approach: To implement regex code it is necessary to break down the intended results by character. First we need to extract anything with alphabetic characters. Then, we can have anything with commas, period, or a space after the letters. Following that there can be another string of letters. This is shown by the `names` function below."
   ]
  },
  {
   "cell_type": "code",
   "execution_count": 336,
   "metadata": {},
   "outputs": [
    {
     "data": {
      "text/plain": [
       "['Moe Szyslak',\n",
       " 'Burns, C. Montgomery',\n",
       " 'Rev. Timothy Lovejoy',\n",
       " 'Ned Flanders',\n",
       " 'Simpson, Homer',\n",
       " 'Dr. Julius Hibbert']"
      ]
     },
     "execution_count": 336,
     "metadata": {},
     "output_type": "execute_result"
    }
   ],
   "source": [
    "#text data string\n",
    "text = \"555-1239Moe Szyslak(636) 555-0113Burns, C. Montgomery555 -6542Rev. Timothy Lovejoy555 8904Ned Flanders636-555-3226Simpson, Homer5553642Dr. Julius Hibbert\"\n",
    "\n",
    "#find all of the text that has a alphabetic characteer followed by a space, comma, or period \n",
    "#and then more alphabetic characters\n",
    "names = re.findall('[a-zA-Z\\s,.]+[a-zA-z]', text)\n",
    "\n",
    "#print name\n",
    "names"
   ]
  },
  {
   "cell_type": "markdown",
   "metadata": {},
   "source": [
    "## Question 2\n",
    "\n",
    "### A\n",
    "\n",
    "Approach: Approaching this problem, we need to rearrange the names so that the last two name of each list element is the first and last names, in that order. Creating a capture group called `reg` to hold multiple regex codes makes the code cleaner and easier to understand. The code in this capture group  is used within the for loop that iterates through all of the names in the `names` list. Using the re.sub function, it is easy to place the titles, middle initials, etc. at the from of each name."
   ]
  },
  {
   "cell_type": "code",
   "execution_count": 337,
   "metadata": {},
   "outputs": [
    {
     "data": {
      "text/plain": [
       "['Moe Szyslak',\n",
       " 'C. Montgomery C. Montgomery',\n",
       " 'Rev. Timothy Lovejoy',\n",
       " 'Ned Flanders',\n",
       " 'Homer Homer',\n",
       " 'Dr. Julius Hibbert']"
      ]
     },
     "execution_count": 337,
     "metadata": {},
     "output_type": "execute_result"
    }
   ],
   "source": [
    "#create regex capture group called reg\n",
    "#the first group finds situations in the string with one or more alphabetic characters\n",
    "#the second group finds situations in the string where there are one alphabetic characters\n",
    "#followed by a period follow by non-word character\n",
    "reg = r\"([a-zA-z]+), ([a-zA-Z\\.\\W]+)\"\n",
    "\n",
    "#create empty list with the first last names \n",
    "first_last = []\n",
    "\n",
    "#iterate through each name from the 'names' list\n",
    "#reorder the names and add to the first_last list\n",
    "for name in names:\n",
    "    x = re.sub(reg, r'\\2 \\2', name)\n",
    "    first_last.append(x)\n",
    "#first_last = [re.sub(reg, r\"\\2 \\1\", name) for name in names]\n",
    "\n",
    "#print list\n",
    "first_last"
   ]
  },
  {
   "cell_type": "markdown",
   "metadata": {},
   "source": [
    "## B\n",
    "\n",
    "Appraoch: From the previous list that identifies all non first and last name components at the beginning of each string element, iterating through the objects this string can help identify if someone has a title. Scanning the string for an instance of one or more alphabetic characted followed by a period is an indication of a title."
   ]
  },
  {
   "cell_type": "code",
   "execution_count": 340,
   "metadata": {},
   "outputs": [
    {
     "name": "stdout",
     "output_type": "stream",
     "text": [
      "[False, True, True, False, False, True]\n"
     ]
    }
   ],
   "source": [
    "#create empty list 'title'\n",
    "title = []\n",
    "\n",
    "#iterate through names in first_last and find situations there there are alphabetic characters followed\n",
    "#by a period to find the instances of titles and add to titles list\n",
    "for f in first_last:\n",
    "    title.append(bool(re.search('[a-zA-Z]+\\.', f)))\n",
    "\n",
    "#print titles list\n",
    "print(title)"
   ]
  },
  {
   "cell_type": "markdown",
   "metadata": {},
   "source": [
    "## C\n",
    "\n",
    "Approach: Similarly to above, identifying is someone has a middle initial can be done by iterating through the names and scanning through the strings. Scanning the string for an instance of one alphabetic character followed by a period at the beginning of the string is an indication of a middle initial."
   ]
  },
  {
   "cell_type": "code",
   "execution_count": 341,
   "metadata": {},
   "outputs": [
    {
     "name": "stdout",
     "output_type": "stream",
     "text": [
      "[False, True, False, False, False, False]\n"
     ]
    }
   ],
   "source": [
    "middle = []\n",
    "\n",
    "for p in pop_names:\n",
    "    middle.append(bool(re.search('[A-Z]\\.', p)))\n",
    "\n",
    "print(middle)"
   ]
  },
  {
   "cell_type": "markdown",
   "metadata": {},
   "source": [
    "## Question 3\n",
    "\n",
    "Approach: Finding the first HTML tag can be done with a straightforward regex code. Using the re.findall() function, you can find an instance of one or mor characters withing angle brackets `<>` at the beginning of the string.\n",
    "\n",
    "The given code in the problem does not work because it finds one or more of any character within the angle brackets and is a greedy qualifier."
   ]
  },
  {
   "cell_type": "code",
   "execution_count": 342,
   "metadata": {},
   "outputs": [
    {
     "name": "stdout",
     "output_type": "stream",
     "text": [
      "['<title>+++BREAKING NEWS+++<title>']\n",
      "['<title>']\n"
     ]
    }
   ],
   "source": [
    "#text data string\n",
    "string = '<title>+++BREAKING NEWS+++<title>'\n",
    "\n",
    "#given code from the problem\n",
    "ex = re.findall('<.+>', string)\n",
    "print(ex)\n",
    "\n",
    "#correct regex code\n",
    "#finds instances where there are one or more character within angle brackets at the beginning of the string\n",
    "news = re.findall('\\A<.+?>', string)\n",
    "\n",
    "#print news\n",
    "print(news)"
   ]
  },
  {
   "cell_type": "markdown",
   "metadata": {},
   "source": [
    "## Question 4\n",
    "\n",
    "Approach: Printing an equation is a matter of identifyinf all characters that could be within a formula. In this case it is donw by writing a regex code that finds instances where there are one or more numeric, carrot, plus, minus, and equal sign chracters. \n",
    "\n",
    "The given code in the problem does not work because is only find the instances where the string does not have one or more numbers, equal, plus, multiplication signs, parentheses."
   ]
  },
  {
   "cell_type": "code",
   "execution_count": 304,
   "metadata": {},
   "outputs": [
    {
     "data": {
      "text/plain": [
       "['-', '^', '^', '-', '^']"
      ]
     },
     "execution_count": 304,
     "metadata": {},
     "output_type": "execute_result"
    }
   ],
   "source": [
    "#text data string\n",
    "formula = '(5-3)^2=5^2-2*5*3+3^2'\n",
    "\n",
    "#incorrect code from the problem\n",
    "four = re.findall('[^0-9=+*()]+', formula)\n",
    "four"
   ]
  },
  {
   "cell_type": "code",
   "execution_count": 332,
   "metadata": {},
   "outputs": [
    {
     "data": {
      "text/plain": [
       "['(5-3)^2=5^2-2', '5', '3+3^2']"
      ]
     },
     "execution_count": 332,
     "metadata": {},
     "output_type": "execute_result"
    }
   ],
   "source": [
    "#find all the instances where there are on ore more of numbers, hats, parentheses, plus, minus, and equal signs\n",
    "five = re.findall(r'[0-9\\^()+-=]+', formula)\n",
    "\n",
    "#return five\n",
    "five"
   ]
  },
  {
   "cell_type": "code",
   "execution_count": null,
   "metadata": {},
   "outputs": [],
   "source": []
  }
 ],
 "metadata": {
  "kernelspec": {
   "display_name": "Python 3",
   "language": "python",
   "name": "python3"
  },
  "language_info": {
   "codemirror_mode": {
    "name": "ipython",
    "version": 3
   },
   "file_extension": ".py",
   "mimetype": "text/x-python",
   "name": "python",
   "nbconvert_exporter": "python",
   "pygments_lexer": "ipython3",
   "version": "3.8.3"
  }
 },
 "nbformat": 4,
 "nbformat_minor": 4
}
