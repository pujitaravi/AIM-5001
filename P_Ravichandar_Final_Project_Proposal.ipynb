{
 "cells": [
  {
   "cell_type": "markdown",
   "metadata": {},
   "source": [
    "# Final Project Proposal\n",
    "Humayra Kausar, Jesus Olivera, Pujita Ravichandar"
   ]
  },
  {
   "cell_type": "markdown",
   "metadata": {},
   "source": [
    "## Introduction\n",
    "\n",
    "Climate change poses a great risk to global food security. The impact could threaten the global food system which is currently facing difficulties in meeting the needs of a growing and changing population. During the last four years the number of people in hunger has grown. Today, around 821 million people are undernourished. These people experience a food shortage every day. It is expected that climate change will threaten years of development progress and increase the number of people living in poverty, adding as many as 122 million more people by 2030.\n",
    "\n",
    "A large percentage of the food worldwide is still produced on relatively small parcels of land by smallholders who rely solely on rainfall to water their crops and animals. The changes in climate directly impact food production through crop yield changes, typically from temperature increases and rainfall variability. Agriculture remains land and resources intensive and its pasture and crops occupies more than 40 % of total land area and accounts for at least 70% of all freshwater withdrawals globally. Effects of climate change are also expected to impact the nutritional quality of food and cause an additional 175 million people to experience zinc deficiency and protein deficiencies. According to researchers undernutrition already cost the global economy $3.5T in lost opportunity and human capital.  \n",
    "Since the mid-1800s the surface air temperatures over earth’s land area have warmed by an average of 1.5 degrees celsius and more of that warming has occurred since 1975 as carbon emissions and other greenhouse gases in the atmosphere have steadily accumulated. According to the UN World Food Programme (WFP), around 80 percent of the people experiencing hunger live in places prone to natural disasters and environmental degradation. \n"
   ]
  },
  {
   "cell_type": "markdown",
   "metadata": {},
   "source": [
    "## Research Questions\n",
    "\n",
    "Our research topic can be summarized in the following sentence. How is food resilience impacted by climate change? This question can be broken down into more specific questions:\n",
    "    1. How does climate change affect water supply?\n",
    "    2. How does climate change affect food resilience?\n",
    "    3. How is food availability affected by climate change?\n",
    "    4. What populations’ access to food is most affected by climate change?\n",
    "\n",
    "These questions target many global humanitarian issues that are prevalent today. Although the climate crisis and world hunger can be thought of as two different problems, the are not mutually exclusive. It is well known that climate change heightend natural disasters and catalyzes negative environmental factors, making it increasingly difficult for human survival. Learning how certain disasters, like flooding and it’s impact on water supply is important in understanding a problem like hunger. Finding relationships and connecting these two problems is integral in working towards a sustainable and resilient solution to world hunger. Investigating these questions can also advise global policy, civil developments, etc. for the populations with the most need.\n"
   ]
  },
  {
   "cell_type": "markdown",
   "metadata": {},
   "source": [
    "## Data To Be Used\n",
    "\n",
    "In order to reach feasible answers to the above questions and paint a complete and precise picture of the circumstances, we will be using data from several sources. According to the final project requirement we will be using two types of data sources, CSV and Web API.\n",
    "\n",
    "Data sources as follows:\n",
    "\n",
    "·       National Oceanic and Atmospheric Administration (NOAA)- US Department of commerce: The State of High Tide Flooding and Annual Outlook. The ramification of climate change that led to Natural disaster such high tide flooding. From this source we will be able to extract necessary data regarding high tide flood count daily, monthly, seasonally, and annually, as well as the states that are affected mostly. Data will need to be collected from this source via Web API.\n",
    "\n",
    "CO-OPS Derived Product API v0.1 (https://api.tidesandcurrents.noaa.gov/dpapi/prod/)\n",
    "\n",
    "·       USDA-Economic Research Service – United States Department of Agriculture: Food Availability (Per Capita) Data System. The source of data will give us required information on food and nutrient availability for consumption. Data will need to be collected from this source as CSV format.\n",
    "\n",
    "Food Availability (Per Capita) Data System (https://www.ers.usda.gov/data-products/food-availability-per-capita-data-system/)\n",
    "\n",
    " ·       World Resources Institute-Aqueduct Projected Water Stress Country Rankings: This source of data will provide us necessary information on countries that are experiencing water shortage and projected to be experiencing water shortage in coming years. Data will need to be collected from this source as CSV format.\n",
    " \n",
    "Aqueduct Projected Water Stress Country Rankings (https://www.wri.org/resources/data-sets/aqueduct-projected-water-stress-country-rankings)\n",
    "\n",
    "Our World in Data: This source provides us with information about how many people are undernourished and where they live, along with information about child undernourishment and food insecurity across the world. This information is stored in a CSV format.\n",
    "\n",
    "our charts on Hunger and Undernourishment (https://ourworldindata.org/hunger-and-undernourishment)\n"
   ]
  },
  {
   "cell_type": "markdown",
   "metadata": {},
   "source": [
    "## Approach\n",
    "\n",
    "Our data will be focused on two main aspects regarding food resilience: climate information and population metrics. The climate data provides insight about how the climate crisis is affecting the landscape as a whole. The population data will provide insight on how people are affected by this.\n",
    "The climate data collected from NOAA provides information on extreme water levels from coastal flooding. This can be used to determine high levels of water damage that has happened over the past decade. This can be visualized with a geo plot or a map and can also be mapped to other variables to find correlation relationships.\n",
    "\n",
    "The USDA-Economic Research Service provides information on food availability and loss-adjusted food availability. This is useful for monitoring and analyzing if there is a trend with severe water weather from the previous dataset in relation to food availability and food loss. Both of these datasets are domestic and can provide insight on the weather patterns of the climate crisis in terms of coastal flooding and on the affect this has on food supply in the US.\n",
    "\n",
    "It is also interesting to investigate these research questions on a global scale. The WRI’s water stress provides information on a country's water stress rankings. Analyzing this with the data from Our World in Data about global undernourishment can provide some insight into the finding a relationship between the prevalence of water and nourishment. These relationship can be illustrated with various plots (line, bar, etc.).This type of analysis is very useful for scientists and global ambassadors interested in the topics world hunger and climate change. In the fight against hunger, being aware of how climate change can negatively impact underprivileged communities is key.\n"
   ]
  },
  {
   "cell_type": "markdown",
   "metadata": {},
   "source": [
    "## Other Informational References\n",
    "\n",
    "https://www.csis.org/analysis/climate-change-and-food-security-test-us-leadership-fragile-world\n"
   ]
  },
  {
   "cell_type": "code",
   "execution_count": null,
   "metadata": {},
   "outputs": [],
   "source": []
  }
 ],
 "metadata": {
  "kernelspec": {
   "display_name": "Python 3",
   "language": "python",
   "name": "python3"
  },
  "language_info": {
   "codemirror_mode": {
    "name": "ipython",
    "version": 3
   },
   "file_extension": ".py",
   "mimetype": "text/x-python",
   "name": "python",
   "nbconvert_exporter": "python",
   "pygments_lexer": "ipython3",
   "version": "3.8.3"
  }
 },
 "nbformat": 4,
 "nbformat_minor": 4
}
