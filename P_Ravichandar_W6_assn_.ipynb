{
 "cells": [
  {
   "cell_type": "markdown",
   "metadata": {},
   "source": [
    "# Week 6 Assignment\n",
    "Pujita Ravichandar"
   ]
  },
  {
   "cell_type": "markdown",
   "metadata": {},
   "source": [
    "## Dataset Set-Up"
   ]
  },
  {
   "cell_type": "code",
   "execution_count": 1,
   "metadata": {},
   "outputs": [],
   "source": [
    "#import relevant packages\n",
    "import pandas as pd\n",
    "import numpy as np"
   ]
  },
  {
   "cell_type": "code",
   "execution_count": 2,
   "metadata": {},
   "outputs": [],
   "source": [
    "#import dataset from desktop location\n",
    "df = pd.read_csv(\"/Users/Puji/Documents/AIM_5001/diamonds.csv\")"
   ]
  },
  {
   "cell_type": "markdown",
   "metadata": {},
   "source": [
    "## Question 1\n",
    "\n",
    "Approach: First, I identifed how many diamonds are within the desired range. I had some difficulty extracting single values from a series object so I added the keys and values to a list. Then, divide the number of diamonds in our range by the total number of diamonds to get a ratio. From this, it is easy to see that 75% percent of the diamonds fall in this range."
   ]
  },
  {
   "cell_type": "code",
   "execution_count": 142,
   "metadata": {},
   "outputs": [
    {
     "data": {
      "text/plain": [
       "0.7468298109010011"
      ]
     },
     "execution_count": 142,
     "metadata": {},
     "output_type": "execute_result"
    }
   ],
   "source": [
    "#count the number of values where the carat is inbetween 0.30 and 1.08 and put the keys 'True' and 'False' in a list\n",
    "carat_keys = pd.value_counts(df['carat'].between(0.30, 1.08)).keys().tolist()\n",
    "\n",
    "#count the number of values where the carat is inbetween 0.30 and 1.08 and put the count values in a list\n",
    "carat_counts = pd.value_counts(df['carat'].between(0.30, 1.08)).tolist()\n",
    "\n",
    "#divide the True carat counts by the total number of diamonds\n",
    "carats = carat_counts[0] / len(df)\n",
    "carats"
   ]
  },
  {
   "cell_type": "markdown",
   "metadata": {},
   "source": [
    "## Question 2\n",
    "\n",
    "Approach: First I had to find how many diamonds had the same x and y dimensions. From there I used the value_counts function to find that 17 diamonds in this dataset have equal x an y dimension."
   ]
  },
  {
   "cell_type": "code",
   "execution_count": 143,
   "metadata": {},
   "outputs": [
    {
     "data": {
      "text/plain": [
       "False    53923\n",
       "True        17\n",
       "dtype: int64"
      ]
     },
     "execution_count": 143,
     "metadata": {},
     "output_type": "execute_result"
    }
   ],
   "source": [
    "#create a variable equal where the variable x is equal to the variable y as 'True' else 'False'\n",
    "equal = np.where(df['x'] == df['y'], 'True', 'False')\n",
    "\n",
    "#count the values in equal\n",
    "pd.value_counts(equal)"
   ]
  },
  {
   "cell_type": "markdown",
   "metadata": {},
   "source": [
    "## Question 3\n",
    "\n",
    "Approach: First, I had to calculate the mean carat value. From there, it is straighforward to find the number of diamonds with a lesser carat. 31,127 diamonds have a less than average carat, with the average at 0.79."
   ]
  },
  {
   "cell_type": "code",
   "execution_count": 146,
   "metadata": {},
   "outputs": [
    {
     "data": {
      "text/plain": [
       "True     31127\n",
       "False    22813\n",
       "Name: carat, dtype: int64"
      ]
     },
     "execution_count": 146,
     "metadata": {},
     "output_type": "execute_result"
    }
   ],
   "source": [
    "#create variable mean that calculates the average of the carat column\n",
    "mean = df['carat'].mean(0)\n",
    "\n",
    "#count the carat values that are less than the mean values\n",
    "pd.value_counts(df['carat'] < mean)"
   ]
  },
  {
   "cell_type": "markdown",
   "metadata": {},
   "source": [
    "## Question 4\n",
    "\n",
    "Approach: I identified which diamonds have a Preimum and Ideal rating with two different variables. From there, I added the number of values of both the variables. 35,342 diamonds have a cut of Premium or Ideal."
   ]
  },
  {
   "cell_type": "code",
   "execution_count": 147,
   "metadata": {},
   "outputs": [
    {
     "data": {
      "text/plain": [
       "35342"
      ]
     },
     "execution_count": 147,
     "metadata": {},
     "output_type": "execute_result"
    }
   ],
   "source": [
    "#create variable premium that gathers the values where the cut is Premium\n",
    "premium = df.loc[(df['cut'] == 'Premium')]\n",
    "\n",
    "#create variable ideal that gathers the values where the cut is Ideal\n",
    "ideal = df.loc[(df['cut'] == 'Ideal')]\n",
    "\n",
    "#add the number of values from premium and ideal to find the total number of diamonds that fit this condition\n",
    "four = len(premium) + len(ideal)\n",
    "\n",
    "four"
   ]
  },
  {
   "cell_type": "markdown",
   "metadata": {},
   "source": [
    "## Question 5\n",
    "\n",
    "Approach: I divided the price column by the carat column and then found the max value. The highest price per carat is 17.828 USD per carat."
   ]
  },
  {
   "cell_type": "code",
   "execution_count": 148,
   "metadata": {},
   "outputs": [
    {
     "data": {
      "text/plain": [
       "17828.846153846152"
      ]
     },
     "execution_count": 148,
     "metadata": {},
     "output_type": "execute_result"
    }
   ],
   "source": [
    "#divide the price column by the crat column to calculate the price per column\n",
    "price_per_carat = df['price'] / df['carat']\n",
    "\n",
    "#find the maximum price per carat\n",
    "price_per_carat.max()"
   ]
  },
  {
   "cell_type": "markdown",
   "metadata": {},
   "source": [
    "## Question 6\n",
    "\n",
    "Approach: I used the bar plot function and identified that I wanted the counts of the cut to be shown.\n",
    "\n",
    "From this graph, the Ideal diamonds are the most frequent and the Fair diamonds are the least frequent. There also seem to be a significantly larger amount of Ideal diamonds compared to Premium diamonds. Even though Premium is the second most frequent, the difference looks like is it a lot.\n",
    "What does it tell us about the frequencies of the individual cut values within the data set?"
   ]
  },
  {
   "cell_type": "code",
   "execution_count": 149,
   "metadata": {},
   "outputs": [
    {
     "data": {
      "text/plain": [
       "<matplotlib.axes._subplots.AxesSubplot at 0x126a22be0>"
      ]
     },
     "execution_count": 149,
     "metadata": {},
     "output_type": "execute_result"
    },
    {
     "data": {
      "image/png": "[encoded data removed]",
      "text/plain": [
       "<Figure size 432x288 with 1 Axes>"
      ]
     },
     "metadata": {
      "needs_background": "light"
     },
     "output_type": "display_data"
    }
   ],
   "source": [
    "#plot a bar graph with the number of cut values by the type of cut values\n",
    "df['cut'].value_counts().plot.bar()"
   ]
  },
  {
   "cell_type": "markdown",
   "metadata": {},
   "source": [
    "## Question 7\n",
    "\n",
    "Approach: I used the boxplot function and identified that I wanted the prict by cut.\n",
    "\n",
    "Looking at the boxplot, specifically the median values for Fair, Good, and Premium cut diamonds are quite similar, and are greater than the median values for Good and Very Good cut diamonds. The minimum price for all the cuts are very similar. The maximum price for each cute varies with Premium, Very Good, Good, Ideal, and Fair in decreasing price order. The first quartile value for Good, Premium, and Very Good are similar. These values are smaller than the first quartile values for Fair and larger than Ideal cut diamonds. Similarly, for the third quartile, the values are Preimun, Very Good, Fair, Good, and Ideal cut diamond in decending order."
   ]
  },
  {
   "cell_type": "code",
   "execution_count": 15,
   "metadata": {},
   "outputs": [
    {
     "data": {
      "text/plain": [
       "<matplotlib.axes._subplots.AxesSubplot at 0x11ed5c2b0>"
      ]
     },
     "execution_count": 15,
     "metadata": {},
     "output_type": "execute_result"
    },
    {
     "data": {
      "image/png": "[encoded data removed]",
      "text/plain": [
       "<Figure size 432x288 with 1 Axes>"
      ]
     },
     "metadata": {
      "needs_background": "light"
     },
     "output_type": "display_data"
    }
   ],
   "source": [
    "#draw a boxplot of the diamond price by the cut\n",
    "df.boxplot('price', 'cut')"
   ]
  },
  {
   "cell_type": "markdown",
   "metadata": {},
   "source": [
    "## Question 8\n",
    "\n",
    "Approach: I used the histogram function and idetified what variable each graph should plot a histogram of.\n",
    "\n",
    "The x histogram shows a most common length of around and slightly less than 5 mm.\n",
    "The y histogram shows a most common width of 0 to 5 mm.\n",
    "The z histogram shows a most common depth of around 5 mm.\n",
    "The diamond depth shows a most common total depth percentage of around 61 - 64.\n"
   ]
  },
  {
   "cell_type": "code",
   "execution_count": 16,
   "metadata": {},
   "outputs": [
    {
     "data": {
      "text/plain": [
       "<matplotlib.axes._subplots.AxesSubplot at 0x11f8a4af0>"
      ]
     },
     "execution_count": 16,
     "metadata": {},
     "output_type": "execute_result"
    },
    {
     "data": {
      "image/png": "[encoded data removed]",
      "text/plain": [
       "<Figure size 432x288 with 1 Axes>"
      ]
     },
     "metadata": {
      "needs_background": "light"
     },
     "output_type": "display_data"
    }
   ],
   "source": [
    "#draw a histogram of the length\n",
    "df['x'].hist()"
   ]
  },
  {
   "cell_type": "code",
   "execution_count": 17,
   "metadata": {},
   "outputs": [
    {
     "data": {
      "text/plain": [
       "<matplotlib.axes._subplots.AxesSubplot at 0x11f80bdc0>"
      ]
     },
     "execution_count": 17,
     "metadata": {},
     "output_type": "execute_result"
    },
    {
     "data": {
      "image/png": "[encoded data removed]",
      "text/plain": [
       "<Figure size 432x288 with 1 Axes>"
      ]
     },
     "metadata": {
      "needs_background": "light"
     },
     "output_type": "display_data"
    }
   ],
   "source": [
    "#draw a histogram of the width\n",
    "df['y'].hist()"
   ]
  },
  {
   "cell_type": "code",
   "execution_count": 18,
   "metadata": {},
   "outputs": [
    {
     "data": {
      "text/plain": [
       "<matplotlib.axes._subplots.AxesSubplot at 0x11fa2a3a0>"
      ]
     },
     "execution_count": 18,
     "metadata": {},
     "output_type": "execute_result"
    },
    {
     "data": {
      "image/png": "[encoded data removed]",
      "text/plain": [
       "<Figure size 432x288 with 1 Axes>"
      ]
     },
     "metadata": {
      "needs_background": "light"
     },
     "output_type": "display_data"
    }
   ],
   "source": [
    "#draw a histogram of the height\n",
    "df['z'].hist()"
   ]
  },
  {
   "cell_type": "code",
   "execution_count": 19,
   "metadata": {},
   "outputs": [
    {
     "data": {
      "text/plain": [
       "<matplotlib.axes._subplots.AxesSubplot at 0x11fb9a4c0>"
      ]
     },
     "execution_count": 19,
     "metadata": {},
     "output_type": "execute_result"
    },
    {
     "data": {
      "image/png": "[encoded data removed]",
      "text/plain": [
       "<Figure size 432x288 with 1 Axes>"
      ]
     },
     "metadata": {
      "needs_background": "light"
     },
     "output_type": "display_data"
    }
   ],
   "source": [
    "#draw a histogram of the diamon depth\n",
    "df['depth'].hist()"
   ]
  },
  {
   "cell_type": "markdown",
   "metadata": {},
   "source": [
    "## Question 9\n",
    "\n",
    "Approach: I used the scatter plot function to create a price vs. time graph from the diamonds dataset.\n",
    "\n",
    "From the results of the scatter plot, we cannot determind any specific relationship between the price and carat. Generally speaking, there is a trend of the lower carat diamonds costing relatively less and the higher carat diamonds being more expensive. There are not many data points for the higher carats. This makes that assumption slightly flawed. However, from the 1 to 3 carat region there are a large variety of prices. Overall, it is difficult to establish a cleam relationship between price and carat."
   ]
  },
  {
   "cell_type": "code",
   "execution_count": 20,
   "metadata": {},
   "outputs": [
    {
     "data": {
      "text/plain": [
       "<matplotlib.axes._subplots.AxesSubplot at 0x11fc02880>"
      ]
     },
     "execution_count": 20,
     "metadata": {},
     "output_type": "execute_result"
    },
    {
     "data": {
      "image/png": "[encoded data removed]",
      "text/plain": [
       "<Figure size 432x288 with 1 Axes>"
      ]
     },
     "metadata": {
      "needs_background": "light"
     },
     "output_type": "display_data"
    }
   ],
   "source": [
    "#create a scatter plot of the price vs. carat\n",
    "df.plot.scatter('carat', 'price')"
   ]
  },
  {
   "cell_type": "code",
   "execution_count": null,
   "metadata": {},
   "outputs": [],
   "source": []
  }
 ],
 "metadata": {
  "kernelspec": {
   "display_name": "Python 3",
   "language": "python",
   "name": "python3"
  },
  "language_info": {
   "codemirror_mode": {
    "name": "ipython",
    "version": 3
   },
   "file_extension": ".py",
   "mimetype": "text/x-python",
   "name": "python",
   "nbconvert_exporter": "python",
   "pygments_lexer": "ipython3",
   "version": "3.8.3"
  }
 },
 "nbformat": 4,
 "nbformat_minor": 4
}
