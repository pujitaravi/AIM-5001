{
 "cells": [
  {
   "cell_type": "markdown",
   "metadata": {},
   "source": [
    "# Assignment 1\n",
    "Pujita Ravichandar"
   ]
  },
  {
   "cell_type": "markdown",
   "metadata": {},
   "source": [
    "## Links to GitHub and Data Set"
   ]
  },
  {
   "cell_type": "markdown",
   "metadata": {},
   "source": [
    "Github Weblink: https://github.com/pujitaravi/AIM-5001/blob/master/forestfires.csv\n",
    "\n",
    "Link to original data set: https://archive.ics.uci.edu/ml/datasets/Forest+Fires\n"
   ]
  },
  {
   "cell_type": "markdown",
   "metadata": {},
   "source": [
    "## What Makes This Data Set Interesting?"
   ]
  },
  {
   "cell_type": "markdown",
   "metadata": {},
   "source": [
    "This dataset is was found on the UCI Machine Learning Repository and is from the Department of Information Systems at the University of Minho in Protugal. It contains information relating to forest fires in northeast Portugal obtained through meteorological and other data.\n",
    "\n",
    "Forest fires are a major enovronmental issue that create widespread damage economically, ecologically, and populationally. I am interested in mapping this dataset to provide visual understanding of the forest fires in northeast Portugal. Because this dataset porvides spatial, temporal, rain, and wind information, I would like to examine how these factors affect the spread and intensity of forest fires. Gaining insight on how weather patterns affect forest fire spread can help improve fire fighting and resource management."
   ]
  }
 ],
 "metadata": {
  "kernelspec": {
   "display_name": "Python 3",
   "language": "python",
   "name": "python3"
  },
  "language_info": {
   "codemirror_mode": {
    "name": "ipython",
    "version": 3
   },
   "file_extension": ".py",
   "mimetype": "text/x-python",
   "name": "python",
   "nbconvert_exporter": "python",
   "pygments_lexer": "ipython3",
   "version": "3.8.3"
  }
 },
 "nbformat": 4,
 "nbformat_minor": 4
}
