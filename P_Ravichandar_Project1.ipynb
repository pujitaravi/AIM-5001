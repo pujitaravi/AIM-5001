{
 "cells": [
  {
   "cell_type": "markdown",
   "metadata": {},
   "source": [
    "# AIM 5001 - Data Acquisition and Management - Project 1 (Week 5)\n",
    "Pujita Ravichandar"
   ]
  },
  {
   "cell_type": "markdown",
   "metadata": {},
   "source": [
    "## Introduction"
   ]
  },
  {
   "cell_type": "markdown",
   "metadata": {},
   "source": [
    "**Dataset Information:** This project utalizes a 20,000 row subset of the **hflights** package sourced from the US Beareau of Transportation Statistics. This data set contains information about the metrics of commercial domestic flights that departed from two airports in Houston, TX, IAH and HOU in 2011.\n",
    "\n",
    "**Research Questions:** \n",
    "1. What is the relationship between flight cancellations and airlines?\n",
    "\n",
    "To answer this question, the relevant flight attributes used are: `UniqueCarrier`, `Cancelled`, and `CancellationCode`. These values are used to calculate the airlines with the most delays and the average delays per airlines. Both of these values can be grouped by the cancellation code to gain further insight on the performance of certain airline companies.\n",
    "\n",
    "2. On average, which airlines are most dependable to not have delays?\n",
    "\n",
    "This inquiry is answered using the `UniqueCarrier`, `ArrDelay`, and `DepDelay` attributes representing the airlines, arrival delay (in minutes), and departure delay (in minutes) respectively. These values are used to calculate the overall average delay time, which can then be ordered by airline to provide an overview of performance. This can also be split into arrival and departure delays to find a more indepth correlation between the type of delays within each airline. This can be used to optimize performance.\n",
    "\n",
    "3. In total, which airlines experience the most delays?\n",
    "\n",
    "Similarly to the previous question, this looks at the same attributes (`UniqueCarrier`, `ArrDelay`, and `DepDelay`) in a different manner. This question looks at the overall performance of airlines getting their customers to their destination punctually. These attributes are used to caluclate the total delay times (arrival plus depature) based on airline. These values are also presented while split into arrival and departure delays times to provide further insight on each airlines performance realitive to its competitiors.\n",
    "\n",
    "**People Interested in This Analysis:** People optimizing airlines punctuality and employees concerned with customer satifcation rates will be interested in learning about the cancellation and delay times of flights. This could also be useful for analysis of how to avoid common mistakes and where to better staff workers to deal with complications relating to delays and cancellations. This analysis could also be indicative of bigger problems in the airlines' larger organizational layout."
   ]
  },
  {
   "cell_type": "markdown",
   "metadata": {},
   "source": [
    "## Importing Data"
   ]
  },
  {
   "cell_type": "code",
   "execution_count": 15,
   "metadata": {},
   "outputs": [],
   "source": [
    "import numpy as np\n",
    "import pandas as pd\n",
    "import matplotlib.pyplot as plt\n",
    "\n",
    "#import dataset from project description\n",
    "filename = 'https://raw.githubusercontent.com/jtopor/DAV-5400/master/Project1/hflights.csv'\n",
    "hflights = pd.read_csv(filename)"
   ]
  },
  {
   "cell_type": "markdown",
   "metadata": {},
   "source": [
    "## Data Preparation Work:"
   ]
  },
  {
   "cell_type": "markdown",
   "metadata": {},
   "source": [
    "For each question, the data preparation begins with creating a subset of the necessary attributes. This organizes the necessary information and allows for an organized set of dataframes related to each question. The numerical bullets below will explain the data preparation in detail for each question."
   ]
  },
  {
   "cell_type": "markdown",
   "metadata": {},
   "source": [
    "**1. Cancellations vs. Airlines:**\n",
    "The first step is to make a subset of data from the `hflgihts` dataset with the attributes of `UniqueCarrier`, `Cancelled`, and `CancellationCode` called `cancelled`. I then created a two new subsets of values, both grouped by the airline. One shows the total cancelled flghts for each airlines titled `sum_cancelled`, the other one, titled `sum_cancelled_ordered` shows the cancelled flights ordered by airline and the cancellation code. Additionally, the `sum_cancelled` values were ordered in decedning order by the total cancellation values, identified by the `sum_cancelled_sorted` function. Overall, this organizes all of the cancelled flights by airline. The code for this is below."
   ]
  },
  {
   "cell_type": "code",
   "execution_count": 16,
   "metadata": {},
   "outputs": [],
   "source": [
    "#create data subset called cancelled with attributes necessary to ansqer question 1 from hflights\n",
    "cancelled = hflights[[\"UniqueCarrier\",\"Cancelled\", \"CancellationCode\"]]"
   ]
  },
  {
   "cell_type": "code",
   "execution_count": 17,
   "metadata": {},
   "outputs": [
    {
     "data": {
      "text/html": [
       "<div>\n",
       "<style scoped>\n",
       "    .dataframe tbody tr th:only-of-type {\n",
       "        vertical-align: middle;\n",
       "    }\n",
       "\n",
       "    .dataframe tbody tr th {\n",
       "        vertical-align: top;\n",
       "    }\n",
       "\n",
       "    .dataframe thead th {\n",
       "        text-align: right;\n",
       "    }\n",
       "</style>\n",
       "<table border=\"1\" class=\"dataframe\">\n",
       "  <thead>\n",
       "    <tr style=\"text-align: right;\">\n",
       "      <th></th>\n",
       "      <th>Cancelled</th>\n",
       "    </tr>\n",
       "    <tr>\n",
       "      <th>UniqueCarrier</th>\n",
       "      <th></th>\n",
       "    </tr>\n",
       "  </thead>\n",
       "  <tbody>\n",
       "    <tr>\n",
       "      <th>AA</th>\n",
       "      <td>14</td>\n",
       "    </tr>\n",
       "    <tr>\n",
       "      <th>AS</th>\n",
       "      <td>0</td>\n",
       "    </tr>\n",
       "    <tr>\n",
       "      <th>B6</th>\n",
       "      <td>6</td>\n",
       "    </tr>\n",
       "    <tr>\n",
       "      <th>CO</th>\n",
       "      <td>53</td>\n",
       "    </tr>\n",
       "    <tr>\n",
       "      <th>DL</th>\n",
       "      <td>20</td>\n",
       "    </tr>\n",
       "    <tr>\n",
       "      <th>EV</th>\n",
       "      <td>9</td>\n",
       "    </tr>\n",
       "    <tr>\n",
       "      <th>F9</th>\n",
       "      <td>0</td>\n",
       "    </tr>\n",
       "    <tr>\n",
       "      <th>FL</th>\n",
       "      <td>11</td>\n",
       "    </tr>\n",
       "    <tr>\n",
       "      <th>MQ</th>\n",
       "      <td>6</td>\n",
       "    </tr>\n",
       "    <tr>\n",
       "      <th>OO</th>\n",
       "      <td>7</td>\n",
       "    </tr>\n",
       "    <tr>\n",
       "      <th>UA</th>\n",
       "      <td>3</td>\n",
       "    </tr>\n",
       "    <tr>\n",
       "      <th>US</th>\n",
       "      <td>10</td>\n",
       "    </tr>\n",
       "    <tr>\n",
       "      <th>WN</th>\n",
       "      <td>37</td>\n",
       "    </tr>\n",
       "    <tr>\n",
       "      <th>XE</th>\n",
       "      <td>48</td>\n",
       "    </tr>\n",
       "  </tbody>\n",
       "</table>\n",
       "</div>"
      ],
      "text/plain": [
       "               Cancelled\n",
       "UniqueCarrier           \n",
       "AA                    14\n",
       "AS                     0\n",
       "B6                     6\n",
       "CO                    53\n",
       "DL                    20\n",
       "EV                     9\n",
       "F9                     0\n",
       "FL                    11\n",
       "MQ                     6\n",
       "OO                     7\n",
       "UA                     3\n",
       "US                    10\n",
       "WN                    37\n",
       "XE                    48"
      ]
     },
     "execution_count": 17,
     "metadata": {},
     "output_type": "execute_result"
    }
   ],
   "source": [
    "#create data subset to sum the cancellations by airline\n",
    "sum_cancelled = cancelled.groupby(['UniqueCarrier']).sum()\n",
    "\n",
    "#sort total cancellations is descending order\n",
    "sum_cancelled_sorted = sum_cancelled.sort_values(['Cancelled'], ascending = False)\n",
    "\n",
    "#print the cancellation sums per airline\n",
    "sum_cancelled"
   ]
  },
  {
   "cell_type": "code",
   "execution_count": 18,
   "metadata": {
    "scrolled": true
   },
   "outputs": [
    {
     "data": {
      "text/html": [
       "<div>\n",
       "<style scoped>\n",
       "    .dataframe tbody tr th:only-of-type {\n",
       "        vertical-align: middle;\n",
       "    }\n",
       "\n",
       "    .dataframe tbody tr th {\n",
       "        vertical-align: top;\n",
       "    }\n",
       "\n",
       "    .dataframe thead th {\n",
       "        text-align: right;\n",
       "    }\n",
       "</style>\n",
       "<table border=\"1\" class=\"dataframe\">\n",
       "  <thead>\n",
       "    <tr style=\"text-align: right;\">\n",
       "      <th></th>\n",
       "      <th></th>\n",
       "      <th>Cancelled</th>\n",
       "    </tr>\n",
       "    <tr>\n",
       "      <th>UniqueCarrier</th>\n",
       "      <th>CancellationCode</th>\n",
       "      <th></th>\n",
       "    </tr>\n",
       "  </thead>\n",
       "  <tbody>\n",
       "    <tr>\n",
       "      <th rowspan=\"3\" valign=\"top\">AA</th>\n",
       "      <th>A</th>\n",
       "      <td>2</td>\n",
       "    </tr>\n",
       "    <tr>\n",
       "      <th>B</th>\n",
       "      <td>11</td>\n",
       "    </tr>\n",
       "    <tr>\n",
       "      <th>C</th>\n",
       "      <td>1</td>\n",
       "    </tr>\n",
       "    <tr>\n",
       "      <th rowspan=\"2\" valign=\"top\">B6</th>\n",
       "      <th>A</th>\n",
       "      <td>1</td>\n",
       "    </tr>\n",
       "    <tr>\n",
       "      <th>B</th>\n",
       "      <td>5</td>\n",
       "    </tr>\n",
       "    <tr>\n",
       "      <th rowspan=\"2\" valign=\"top\">CO</th>\n",
       "      <th>A</th>\n",
       "      <td>5</td>\n",
       "    </tr>\n",
       "    <tr>\n",
       "      <th>B</th>\n",
       "      <td>48</td>\n",
       "    </tr>\n",
       "    <tr>\n",
       "      <th rowspan=\"2\" valign=\"top\">DL</th>\n",
       "      <th>A</th>\n",
       "      <td>2</td>\n",
       "    </tr>\n",
       "    <tr>\n",
       "      <th>B</th>\n",
       "      <td>18</td>\n",
       "    </tr>\n",
       "    <tr>\n",
       "      <th rowspan=\"2\" valign=\"top\">EV</th>\n",
       "      <th>A</th>\n",
       "      <td>6</td>\n",
       "    </tr>\n",
       "    <tr>\n",
       "      <th>B</th>\n",
       "      <td>3</td>\n",
       "    </tr>\n",
       "    <tr>\n",
       "      <th rowspan=\"3\" valign=\"top\">FL</th>\n",
       "      <th>A</th>\n",
       "      <td>1</td>\n",
       "    </tr>\n",
       "    <tr>\n",
       "      <th>B</th>\n",
       "      <td>9</td>\n",
       "    </tr>\n",
       "    <tr>\n",
       "      <th>C</th>\n",
       "      <td>1</td>\n",
       "    </tr>\n",
       "    <tr>\n",
       "      <th rowspan=\"3\" valign=\"top\">MQ</th>\n",
       "      <th>A</th>\n",
       "      <td>1</td>\n",
       "    </tr>\n",
       "    <tr>\n",
       "      <th>B</th>\n",
       "      <td>4</td>\n",
       "    </tr>\n",
       "    <tr>\n",
       "      <th>C</th>\n",
       "      <td>1</td>\n",
       "    </tr>\n",
       "    <tr>\n",
       "      <th rowspan=\"2\" valign=\"top\">OO</th>\n",
       "      <th>B</th>\n",
       "      <td>5</td>\n",
       "    </tr>\n",
       "    <tr>\n",
       "      <th>C</th>\n",
       "      <td>2</td>\n",
       "    </tr>\n",
       "    <tr>\n",
       "      <th rowspan=\"2\" valign=\"top\">UA</th>\n",
       "      <th>A</th>\n",
       "      <td>1</td>\n",
       "    </tr>\n",
       "    <tr>\n",
       "      <th>B</th>\n",
       "      <td>2</td>\n",
       "    </tr>\n",
       "    <tr>\n",
       "      <th rowspan=\"2\" valign=\"top\">US</th>\n",
       "      <th>A</th>\n",
       "      <td>2</td>\n",
       "    </tr>\n",
       "    <tr>\n",
       "      <th>B</th>\n",
       "      <td>8</td>\n",
       "    </tr>\n",
       "    <tr>\n",
       "      <th rowspan=\"2\" valign=\"top\">WN</th>\n",
       "      <th>A</th>\n",
       "      <td>23</td>\n",
       "    </tr>\n",
       "    <tr>\n",
       "      <th>B</th>\n",
       "      <td>14</td>\n",
       "    </tr>\n",
       "    <tr>\n",
       "      <th rowspan=\"2\" valign=\"top\">XE</th>\n",
       "      <th>A</th>\n",
       "      <td>13</td>\n",
       "    </tr>\n",
       "    <tr>\n",
       "      <th>B</th>\n",
       "      <td>35</td>\n",
       "    </tr>\n",
       "  </tbody>\n",
       "</table>\n",
       "</div>"
      ],
      "text/plain": [
       "                                Cancelled\n",
       "UniqueCarrier CancellationCode           \n",
       "AA            A                         2\n",
       "              B                        11\n",
       "              C                         1\n",
       "B6            A                         1\n",
       "              B                         5\n",
       "CO            A                         5\n",
       "              B                        48\n",
       "DL            A                         2\n",
       "              B                        18\n",
       "EV            A                         6\n",
       "              B                         3\n",
       "FL            A                         1\n",
       "              B                         9\n",
       "              C                         1\n",
       "MQ            A                         1\n",
       "              B                         4\n",
       "              C                         1\n",
       "OO            B                         5\n",
       "              C                         2\n",
       "UA            A                         1\n",
       "              B                         2\n",
       "US            A                         2\n",
       "              B                         8\n",
       "WN            A                        23\n",
       "              B                        14\n",
       "XE            A                        13\n",
       "              B                        35"
      ]
     },
     "execution_count": 18,
     "metadata": {},
     "output_type": "execute_result"
    }
   ],
   "source": [
    "#order the total cancellations by airline and cancellation code\n",
    "sum_cancelled_ordered = cancelled.groupby(['UniqueCarrier', 'CancellationCode']).sum()\n",
    "\n",
    "#print data subset with the airline, cancellation code, and sum of cancellations\n",
    "sum_cancelled_ordered"
   ]
  },
  {
   "cell_type": "markdown",
   "metadata": {},
   "source": [
    "**2. Airlines vs. Average Delays**\n",
    "\n",
    "I made a subset of information under the title `delay` that included the attributes of `UniqueCarrier`, `ArrDelay`, and `DepDelay`. To calculate the overall delay of each airline, I created a new column in this subset titled `TotalDelay` that added the floating point values from the Arrival Dealy and the Departure Delay columns. This gives us an over all time of delays for each airline. This is useful for answering reserach questions 2 and question 3. From here, I grouped these values by the airlines using the `UniqueCarrier` attribute to sort these values by airline, and then found the mean delay times for each airline. Following this, I sorted the delay values by mean total delays in ascending order to make visualizing this material more intuitative. This sorted data is under the title `delay_sorted` This makes it easy to compare the performance of multiple airlines. The code for this is below."
   ]
  },
  {
   "cell_type": "code",
   "execution_count": 19,
   "metadata": {
    "scrolled": false
   },
   "outputs": [
    {
     "name": "stderr",
     "output_type": "stream",
     "text": [
      "<ipython-input-19-762a7ff40c92>:5: SettingWithCopyWarning: \n",
      "A value is trying to be set on a copy of a slice from a DataFrame.\n",
      "Try using .loc[row_indexer,col_indexer] = value instead\n",
      "\n",
      "See the caveats in the documentation: https://pandas.pydata.org/pandas-docs/stable/user_guide/indexing.html#returning-a-view-versus-a-copy\n",
      "  delay['TotalDelay'] = delay.ArrDelay + delay.DepDelay\n"
     ]
    }
   ],
   "source": [
    "#create data subset with attributes from hflight dataset to answee question 2\n",
    "delay = hflights[['UniqueCarrier', 'ArrDelay', 'DepDelay']]\n",
    "\n",
    "#create new column in delay called 'TotalDelay' that sums the arriva and delay times in minutes\n",
    "delay['TotalDelay'] = delay.ArrDelay + delay.DepDelay\n"
   ]
  },
  {
   "cell_type": "code",
   "execution_count": 20,
   "metadata": {},
   "outputs": [
    {
     "name": "stdout",
     "output_type": "stream",
     "text": [
      "                ArrDelay   DepDelay  TotalDelay\n",
      "UniqueCarrier                                  \n",
      "AA              0.950397   5.610672    6.581349\n",
      "AS              9.396552   4.559322   14.120690\n",
      "B6             11.086022  18.234043   29.430108\n",
      "CO              5.366780   9.881251   15.226393\n",
      "DL              4.310924   8.033613   12.344538\n",
      "EV             13.927083  21.742268   34.989583\n",
      "F9             13.725806   6.306452   20.032258\n",
      "FL              1.624060   3.939850    5.563910\n",
      "MQ              7.144615   9.901538   17.046154\n",
      "OO              5.743106   6.692197   12.481858\n",
      "UA             -2.234694   3.909091    1.755102\n",
      "US             -3.595960   1.494983   -2.545455\n",
      "WN              8.644941  14.394336   22.993182\n",
      "XE              3.613172   3.846657    7.441514\n"
     ]
    }
   ],
   "source": [
    "#create subset grouping the dealays by airline and finding the average delay times in minutes\n",
    "delay_carrier = delay.groupby(['UniqueCarrier']).mean()\n",
    "\n",
    "#print airlines, arrival, departure, and total delays\n",
    "print(delay_carrier)\n",
    "\n",
    "#sort delay_carrier dataset by total delay times in decreasing order\n",
    "delay_sorted = delay_carrier.sort_values(['TotalDelay'], ascending = False)"
   ]
  },
  {
   "cell_type": "markdown",
   "metadata": {},
   "source": [
    "**3. Airlines vs. Total Delays**\n",
    "\n",
    "Using the `delay` subset created in the part above, I created a new subset titled `delay_sum` containing the sum of all arrival, departure, and the total delays (arrival + departure). This subset is ordered by airline identified by the `UniqueCarrier` attribute, as we are interested in comparing the performance of airlines. I created a new subset titled `delay_sum_sorted` that arranged the airlines in decending order with respect to the `TotalDelay` attribute. This new subset is mainly for visualization purposes that we will see in the coming section. The relevant code for this is below. "
   ]
  },
  {
   "cell_type": "code",
   "execution_count": 21,
   "metadata": {},
   "outputs": [
    {
     "name": "stdout",
     "output_type": "stream",
     "text": [
      "               ArrDelay  DepDelay  TotalDelay\n",
      "UniqueCarrier                                \n",
      "AA                479.0    2839.0      3317.0\n",
      "AS                545.0     269.0       819.0\n",
      "B6               1031.0    1714.0      2737.0\n",
      "CO              36317.0   66985.0    103037.0\n",
      "DL               1026.0    1912.0      2938.0\n",
      "EV               1337.0    2109.0      3359.0\n",
      "F9                851.0     391.0      1242.0\n",
      "FL                216.0     524.0       740.0\n",
      "MQ               2322.0    3218.0      5540.0\n",
      "OO               3957.0    4631.0      8600.0\n",
      "UA               -219.0     387.0       172.0\n",
      "US              -1068.0     447.0      -756.0\n",
      "WN              31701.0   52856.0     84316.0\n",
      "XE              24248.0   25888.0     49940.0\n"
     ]
    }
   ],
   "source": [
    "#create data subset based on delay variable that groups by airlines and calculated the sub of delays\n",
    "delay_sum = delay.groupby(['UniqueCarrier']).sum()\n",
    "\n",
    "#sort the delay sums by total delay times in minutes in descending order\n",
    "delay_sum_sorted = delay_sum.sort_values(['TotalDelay'], ascending = False)\n",
    "\n",
    "#print the the dataset with sums of delays\n",
    "print(delay_sum)\n"
   ]
  },
  {
   "cell_type": "markdown",
   "metadata": {},
   "source": [
    "## Exploratory Data Analysis"
   ]
  },
  {
   "cell_type": "markdown",
   "metadata": {},
   "source": [
    "**1. Cancellation vs. Airlines**\n",
    "Summary statistics for the total cancelled flights by airline are represented by the first bar graph below. This visual representation of the data clearly indicates that CO, XE, and WN are the airlines with the most cancelled flights.\n",
    "\n",
    "The second bar graph below shows the cancelled flights by airlines ordered by reason of cancellation. This shows that reason B is the most popular reason for cancellation and is correlated to weather, especially in the cases of the CO and XE airlines. The second most popular reason for cancellation is reason A referring to carrier. The least popular reason is reason C coressponding to the national air system. \n",
    "\n",
    "The code for both of these graphs is below."
   ]
  },
  {
   "cell_type": "code",
   "execution_count": 22,
   "metadata": {},
   "outputs": [
    {
     "data": {
      "image/png": "[encoded data removed]",
      "text/plain": [
       "<Figure size 432x288 with 1 Axes>"
      ]
     },
     "metadata": {
      "needs_background": "light"
     },
     "output_type": "display_data"
    },
    {
     "data": {
      "image/png": "[encoded data removed]",
      "text/plain": [
       "<Figure size 432x288 with 1 Axes>"
      ]
     },
     "metadata": {
      "needs_background": "light"
     },
     "output_type": "display_data"
    }
   ],
   "source": [
    "#bar plot of sorted cancellation data by airline in descending order\n",
    "sum_cancelled_sorted.plot.bar()\n",
    "\n",
    "#bar plot of cancellation data by airline and cancellation code\n",
    "#ideally this can be made into a more visually concise table with another visualization tool\n",
    "sum_cancelled_ordered.plot.bar(stacked = True);"
   ]
  },
  {
   "cell_type": "markdown",
   "metadata": {},
   "source": [
    "**2. Airlines vs. Average Delays**\n",
    "\n",
    "The summary statistics for the average delays are represented by the first set of bar graphs below. There we can see that EV and F9 had the most arrival delays, EV and B6 had the most departure and total delays.\n",
    "\n",
    "The stacked bar graph below show the representaiton of the arrival, depature, and total delays stacked in order. It is clear to see that the airlines with the top considerations for average delays are EV, B6. and WN.\n",
    "\n",
    "The necessary code to generate these plots is below."
   ]
  },
  {
   "cell_type": "code",
   "execution_count": 23,
   "metadata": {},
   "outputs": [
    {
     "data": {
      "text/plain": [
       "array([<matplotlib.axes._subplots.AxesSubplot object at 0x12117c670>,\n",
       "       <matplotlib.axes._subplots.AxesSubplot object at 0x1213158b0>,\n",
       "       <matplotlib.axes._subplots.AxesSubplot object at 0x121279f70>],\n",
       "      dtype=object)"
      ]
     },
     "execution_count": 23,
     "metadata": {},
     "output_type": "execute_result"
    },
    {
     "data": {
      "image/png": "[encoded data removed]",
      "text/plain": [
       "<Figure size 432x288 with 3 Axes>"
      ]
     },
     "metadata": {
      "needs_background": "light"
     },
     "output_type": "display_data"
    }
   ],
   "source": [
    "#bar plor of the types of delays sorted by airline\n",
    "delay_carrier.plot.bar(subplots = True)"
   ]
  },
  {
   "cell_type": "code",
   "execution_count": 24,
   "metadata": {},
   "outputs": [
    {
     "data": {
      "text/plain": [
       "<matplotlib.axes._subplots.AxesSubplot at 0x11fffddc0>"
      ]
     },
     "execution_count": 24,
     "metadata": {},
     "output_type": "execute_result"
    },
    {
     "data": {
      "image/png": "[encoded data removed]",
      "text/plain": [
       "<Figure size 432x288 with 1 Axes>"
      ]
     },
     "metadata": {
      "needs_background": "light"
     },
     "output_type": "display_data"
    }
   ],
   "source": [
    "#bar plor of the arrival, departure, and total delays as averages stacked in descending order by total delay\n",
    "delay_sorted.plot.bar(stacked = True)"
   ]
  },
  {
   "cell_type": "markdown",
   "metadata": {},
   "source": [
    "**3. Airlines vs. Total Delays**\n",
    "\n",
    "The first set of bar graphs depict the total arrival, departure, and total delay times for the different airlines. This will give us the overall performance of the airlines respective to each other. The airline with the most arrival, departure, and total delays is CO, followed by WN. This same data is depicted by the stacked bar graph below. These three airlines show a very clear trend; with respect to the other airlines, they are the most significantly delayed for the time frame of this dataset.\n",
    "\n",
    "The necessary code to generate these graphs is below."
   ]
  },
  {
   "cell_type": "code",
   "execution_count": 25,
   "metadata": {},
   "outputs": [
    {
     "data": {
      "text/plain": [
       "array([<matplotlib.axes._subplots.AxesSubplot object at 0x120e655b0>,\n",
       "       <matplotlib.axes._subplots.AxesSubplot object at 0x12146db50>,\n",
       "       <matplotlib.axes._subplots.AxesSubplot object at 0x121497220>],\n",
       "      dtype=object)"
      ]
     },
     "execution_count": 25,
     "metadata": {},
     "output_type": "execute_result"
    },
    {
     "data": {
      "image/png": "[encoded data removed]",
      "text/plain": [
       "<Figure size 432x288 with 3 Axes>"
      ]
     },
     "metadata": {
      "needs_background": "light"
     },
     "output_type": "display_data"
    }
   ],
   "source": [
    "#bar plot of the arrival, departure, and total delays as sumns in descending order by airline\n",
    "delay_sum_sorted.plot.bar(subplots = True)"
   ]
  },
  {
   "cell_type": "code",
   "execution_count": 26,
   "metadata": {},
   "outputs": [
    {
     "data": {
      "text/plain": [
       "<matplotlib.axes._subplots.AxesSubplot at 0x12046ea90>"
      ]
     },
     "execution_count": 26,
     "metadata": {},
     "output_type": "execute_result"
    },
    {
     "data": {
      "image/png": "[encoded data removed]",
      "text/plain": [
       "<Figure size 432x288 with 1 Axes>"
      ]
     },
     "metadata": {
      "needs_background": "light"
     },
     "output_type": "display_data"
    }
   ],
   "source": [
    "#bar plot of the sums of arrival, departure, and total delays stacked in descending by total delays\n",
    "#and sorted by airline\n",
    "delay_sum_sorted.plot.bar(stacked = True)"
   ]
  },
  {
   "cell_type": "markdown",
   "metadata": {},
   "source": [
    "## Research Results"
   ]
  },
  {
   "cell_type": "markdown",
   "metadata": {},
   "source": [
    "\n",
    "**1. What is the relationship between flight cancellations and airlines?**\n",
    "\n",
    "Answering this question is easiest done by looking at the bar graphs under the 'Exploratory Data Analysis' section. The airlines with the most cancellations are CO, XE, and WN in descending order. CO with 53, XE with 48, and WN with 37 cancellations.  These airlines have signifcantly more cancellations than the other airlines. The following airline to WN was DE with 20 cancellations. WN had 1.85 times the cancellations compared to DE. Contrastingly, the airlines with the least cancellations are AS anf F9, both with 0 cancellations, and UA with 3 cancellations for the time period of this dataset. \n",
    "\n",
    "**2. On average, which airlines are most dependable to not have delays?**\n",
    "\n",
    "The graphs pertaining to these questions are under the second subsection of the 'Exploratory Data Analysis' section. The three airlines with the least average delays are US, UA, and FL in that order. Referring to the data frames in the 'Data Preparation' section, US has an average delay time of -2.55 minutes, UA with 1.76 minutes, and FL with 5.56. Interestingly, US has an average performance of arriving early. The airlines with the most delays are EV, B6, and WN in that order. EV has an average delay time of 39.99 minutes, B6 with 29.34 minues, and WN with 22.99 minutes. For most airlines, there seem to be more departure delays than arrival delays.\n",
    "\n",
    "**3. In total, which airlines experience the most delays?**\n",
    "\n",
    "The graphs used to visualize this question are under the third subsection of the larger 'Exploratory Data Analysis' section. The US, UA, and FL airlines had the least total delays during this timeframe; US with -756 minuts, UA with 152 minutes, and FL with 740 minutes. CO, WN and XE has the highest total delay times; CO with 103,037 minutes, WN with 85,316 minutes, and XE with 49,940 minutes. Interestingly, looking at the stacked bar plot, for most of the airlines, the departure delay contributes more to the total delay than the arrivals. Also, it is important to notice that these results are not exactly the same as the previous section. This shows value in doing both an analysis looking at the averages and the sums.\n",
    "\n",
    "\n",
    "This information will be very useful to employees optimizing airlines punctuality, comparing airline performance, and where to best staff workers to ensure speedy solutions to potential problems. The analysis on these variables is also useful for predicting customer satisfaction within the realm of commercial flying from Houston.\n"
   ]
  },
  {
   "cell_type": "markdown",
   "metadata": {},
   "source": [
    "## Conclusions"
   ]
  },
  {
   "cell_type": "markdown",
   "metadata": {},
   "source": [
    "Overall, this exploratory data analysis (EDA) of this flight database was able to provide insight on the cancellation and delays of airlines. This analysis will be useful in comparing airline preformance and can identify areas of improvement. Looking at the research questions posed and considering the variables of cancellation and delays, conclusions can be made about the most and least realiable airlines. CO can be determined as the least realiable airlines, as it has the highest cancellations and total delay time. UA can be determined as the most realiable, as it had the least cancellations, second least average delay time, and second least total delay time. However, if placing  focus on punctuality, US is superior as it had an average and total trend of arriving early.\n",
    "\n",
    "From this analysis, the posed research questions were able to be answered using this dataset and provide valueble insight on the relative performance and punctuality of the airlines in the hflights dataset.\n",
    "\n",
    "This research can be extended in the future to account for more variables that affect the punctuality, performance, and customer satisfaction of the airlines. This can also be extended to different airports arround the world. Looking into this can imporve the effiency and reliability of commerical flying as a whole."
   ]
  },
  {
   "cell_type": "code",
   "execution_count": null,
   "metadata": {},
   "outputs": [],
   "source": []
  }
 ],
 "metadata": {
  "kernelspec": {
   "display_name": "Python 3",
   "language": "python",
   "name": "python3"
  },
  "language_info": {
   "codemirror_mode": {
    "name": "ipython",
    "version": 3
   },
   "file_extension": ".py",
   "mimetype": "text/x-python",
   "name": "python",
   "nbconvert_exporter": "python",
   "pygments_lexer": "ipython3",
   "version": "3.8.3"
  }
 },
 "nbformat": 4,
 "nbformat_minor": 4
}
