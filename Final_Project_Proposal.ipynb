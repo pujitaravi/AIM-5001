{
 "cells": [
  {
   "cell_type": "markdown",
   "metadata": {},
   "source": [
    "# Final Project Proposal\n",
    "Jesus Olivera, Pujita Ravichandar"
   ]
  },
  {
   "cell_type": "markdown",
   "metadata": {},
   "source": [
    "## Introduction\n",
    "<br>\n",
    "Climate change poses a great risk to humanity. The change in climate has already had observable effects on the environment. Between 1970 and 2019, 79% of disasters worldwide involved weather, water, and climate related hazards. These disasters accounted for 56% of deaths and 75% of economic losses from disasters associated with natural hazard events reported during that period. Prof. Petteri Taalas, Secretary-General, VMO mentioned in the 24th conference of the Paris Agreement that over the last 10 years, from 2010 to 2019, the percentage of disasters associated with weather, climate and water related events increased by 9% compared to the previous decade, and almost 14% with respect to the decade from 1991 to 2000.\n",
    "<br>\n",
    "<br>\n",
    "Climate change poses a greater risk to Small Island Developing States (SIDS) and Least Developed Countries (LDCs). They are least able to recover from climate stresses and their economic growth is highly dependent on climate-sensitive sectors. It is expected that climate change will threaten years of development progress and increase the number of people living in poverty, adding as many as 122 million more people by 2030.\n",
    "<br>\n",
    "<br>\n",
    "Since the mid-1800s the surface air temperatures over earth’s land area have warmed by an average of 1.5 degrees Celsius and more of that warming has occurred since 1975 as carbon emissions and other greenhouse gases in the atmosphere have steadily accumulated. Scientists have high confidence that the global temperatures will continue to rise for decades to come, largely due to the greenhouse gases produced by human activity. The Intergovernmental Panel on Climate Change (IPCC) forecasts a temperature rise of 2.5 to 10 degrees Fahrenheit over the next century.\n",
    "\n"
   ]
  },
  {
   "cell_type": "markdown",
   "metadata": {},
   "source": [
    "## Research Questions\n",
    "<br>\n",
    "Our research topic can be summarized in the following sentence. How are global temperatures affecting the weather and safety of our planet? This question can be broken down into the following subquestions:\n",
    "\n",
    "<br>\n",
    "\n",
    "* What are the trends in global surface temperature?\n",
    "* How do global temperature trends affect glaciers?\n",
    "* What is the relationship, if any, between global temperature and natural disasters?\n",
    "\n",
    "<br>\n",
    "These questions target many issues relevant to the climate crisis. These questions are exploring the areas of repercussions that the state of our climate has on the human population directly. Although our weather patterns on Earth seem like a very niche problem reserved to climate science, the impacts are widespread and affect many aspects of day-to-day life. \n",
    "<br>\n",
    "\n",
    "Learning about glacier behavior in relation to the global temperature provides insight on how weather patterns might change across the globe. For example, this could help predict flooding of coastlines due to the rise in sea levels and even animal extinction. Similarly, studying the relationship between global temperature and natural disasters is a clear way to explore if there is a relationship between the temperature change and natural disasters. This exploration is also very important and can have effects in disaster prevention and emergency response planning.\n",
    "\n",
    "<br>\n",
    "The Python package, geoplotlib, is the new Python tool that our team will explore while trying to answer these research questions. This tool is a package based on numpy and scipy. This tool will aid us in visualizing geographical data in a more intuitive map format. This will help improve our data visualizations and convey our findings more clearly.\n",
    "\n",
    "    \n"
   ]
  },
  {
   "cell_type": "markdown",
   "metadata": {},
   "source": [
    "## Data To Be Used\n",
    "\n",
    "To reach feasible answers to the above questions and paint a complete and precise picture of the circumstances, we will be using data from several sources. According to the final project requirement we will be using two types of data sources, CSV and Web scraping.\n",
    "<br>\n",
    "\n",
    "### Data sources as follows:\n",
    "<br>\n",
    "Our World Data: Surface temperature data. GISTEMP surface temperature anomaly, 2017. The temperature data is measured in degrees Celsius and it is relative to the 1951 – 1980 global average temperature. The data is based on the GISTEMP analysis from the NASA Goddard Institute for Space Studies. From this source we will be able to extract necessary data regarding global surface temperature by region and year. The data will be collected from this source via csv.\n",
    "\n",
    "* **GISTEMP surface temperature anomaly, 2017** (https://ourworldindata.org/grapher/surface-temperature-anomaly-gistemp?time=2017).\n",
    "<br>\n",
    " \n",
    "Our World Data: Natural Disasters. Global deaths from natural disasters. Absolute number of global deaths per year because of natural disasters, which includes those from droughts, floods, extreme weather, extreme temperature, landslides, dry mass movements, wildfires, volcanic activity and earthquakes. From this source we will be able to extract necessary data regarding global deaths from natural disasters by region and year. The data needed will be collected from this source as a CSV format.\n",
    "\n",
    "* **Our World Data: Global deaths from natural disasters** (https://ourworldindata.org/natural-disasters).\n",
    "<br>\n",
    " \n",
    "DataHub.io: Core/Glacier-Mass-Balance. Average cumulative mass balance of reference glaciers worldwide. Average cumulative balance of “reference” glaciers worldwide from 1945-2014 from US EPA and World Glacier Monitoring Service (WGMS). This is cumulative change in mass balance of set of “reference” glaciers worldwide. The values represent the average of all the glaciers that were measured. From this source we will be able to extract necessary data regarding glaciers mass worldwide by year. The data needed will be collected from this source via Web Scraping.\n",
    "\n",
    "* **Datahub.io: Average cumulative mass balance of reference glaciers worldwide** (https://datahub.io/core/glacier-mass-balance#data).\n",
    "<br>\n",
    "\n",
    "Climate Impact Lab: Daily climate projections based on representative concentration pathway 2.6, 4.5, and 8.5 (Van Vuuren et al., 2012) experiments run by global climate models participating in the Coupled Model Intercomparison Project Phase 5 (CMIPS) exercise (Taylor et al., 2012). The projections were aggregated to regional estimates by first transforming the daily min, average, or maximum temperatures at the grid scale, then aggregating to regions using a weighted average. From this source we will be able to extract necessary data regarding climate projections by region and year. The data needed will be collected from this source as a CSV format.\n",
    "\n",
    "* **Climate Impact Lab: Global Map** (http://www.impactlab.org/map/#usmeas=absolute&usyear=1981-2010&gmeas=absolute&gyear=1986-2005&tab=global).\n",
    "\n",
    "<br>\n"
   ]
  },
  {
   "cell_type": "markdown",
   "metadata": {},
   "source": [
    "## Approach\n",
    "\n",
    "Our approach to answering our research questions can be broken up into three topics: global temperature, glaciers, and natural disasters. Relating the glacer topic and the natural disaster topic to the global temperature will show how temperature trends affect these two areas.\n",
    "<br>\n",
    "\n",
    "The data from Climate Impact Lab and the surface temperature data from Our World in Data will show the global temperature trends and how they have changed over the decades. These two sources can provide insight on the temperature trends and can be used to gain insight on many other variables. This information would also be well presented in a map form. The geoplotlib package will most likely be used for this along with some basic statistical analysis.\n",
    "<br>\n",
    "\n",
    "The data from Core/Glacier Mass Balance Data provides data on the average mass balance of glaciers over the decades from 1945 to 2014. This can be compared to the global temperature data to find any correlations and other data patterns. This data can be plotted with histograms with some basic statistical analysis. \n",
    "<br>\n",
    "\n",
    "The data from Our World Data relating to  natural disasters depicts the global weather from natural disasters from the 1978 to 2018. Comparing this to the global temperature data  can help find any possible correlations between these variables. This data can be plotted with histograms with some basic statistical analysis.\n",
    "<br>\n"
   ]
  },
  {
   "cell_type": "markdown",
   "metadata": {},
   "source": [
    "## Other Informational References\n",
    "\n",
    "https://climate.nasa.gov/effects/\n",
    "\n",
    "https://public.wmo.int/en/resources/united_in_science\n",
    "\n",
    "https://www.ipcc.ch/\n"
   ]
  },
  {
   "cell_type": "code",
   "execution_count": null,
   "metadata": {},
   "outputs": [],
   "source": []
  }
 ],
 "metadata": {
  "kernelspec": {
   "display_name": "Python 3",
   "language": "python",
   "name": "python3"
  },
  "language_info": {
   "codemirror_mode": {
    "name": "ipython",
    "version": 3
   },
   "file_extension": ".py",
   "mimetype": "text/x-python",
   "name": "python",
   "nbconvert_exporter": "python",
   "pygments_lexer": "ipython3",
   "version": "3.8.3"
  }
 },
 "nbformat": 4,
 "nbformat_minor": 4
}
