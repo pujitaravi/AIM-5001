{
 "cells": [
  {
   "cell_type": "markdown",
   "metadata": {},
   "source": [
    "## Question 1"
   ]
  },
  {
   "cell_type": "markdown",
   "metadata": {},
   "source": [
    "Approach: Because the problem is asking for the distinct overlapping values, this hits towards using some sort of set function. Looking through the numpy documentation to find a similar command gives us the intersect1d command."
   ]
  },
  {
   "cell_type": "code",
   "execution_count": 2,
   "metadata": {},
   "outputs": [
    {
     "data": {
      "text/plain": [
       "array([2, 4])"
      ]
     },
     "execution_count": 2,
     "metadata": {},
     "output_type": "execute_result"
    }
   ],
   "source": [
    "#import numpy\n",
    "import numpy as np\n",
    "\n",
    "#make arrays a and b from the directions\n",
    "a = np.array([1, 2, 3, 2, 3, 4, 3, 4, 5, 6])\n",
    "b = np.array([7, 2, 10, 2, 7, 4, 9, 4, 9, 8])\n",
    "\n",
    "\n",
    "#numpy has an intersect command in the documentation that will find the distinct overlapping values of the sets\n",
    "c = np.intersect1d(a,b)\n",
    "c"
   ]
  },
  {
   "cell_type": "markdown",
   "metadata": {},
   "source": [
    "## Question 2"
   ]
  },
  {
   "cell_type": "markdown",
   "metadata": {},
   "source": [
    "Approach: The question ia asking for an array of consecutive intergers that go down the rows instead of across the columns. This suggests using the transpose command. I created an consecutive array of integers with the arange command and took the transpose to solve this problem."
   ]
  },
  {
   "cell_type": "code",
   "execution_count": 8,
   "metadata": {},
   "outputs": [
    {
     "data": {
      "text/plain": [
       "array([[ 1,  6, 11],\n",
       "       [ 2,  7, 12],\n",
       "       [ 3,  8, 13],\n",
       "       [ 4,  9, 14],\n",
       "       [ 5, 10, 15]])"
      ]
     },
     "execution_count": 8,
     "metadata": {},
     "output_type": "execute_result"
    }
   ],
   "source": [
    "#create array called arr with integers from 1-15 and reshape into a 5x3 array\n",
    "arr = np.arange(1,16).reshape(3,5)\n",
    "\n",
    "#transpose this array to make a 3x5 array in the desired order\n",
    "arr.T"
   ]
  },
  {
   "cell_type": "markdown",
   "metadata": {},
   "source": [
    "## Question 3"
   ]
  },
  {
   "cell_type": "markdown",
   "metadata": {},
   "source": [
    "Approach: Similarly to problem 1, I found the intersection of arrays a and b using the intersect1d command. After finding these values, I removed them from array a. I wanted to iterate through each of the elements in c but had some trouble with producing that code. Given that difficulty, the code below still completes the task. "
   ]
  },
  {
   "cell_type": "code",
   "execution_count": 36,
   "metadata": {},
   "outputs": [
    {
     "name": "stdout",
     "output_type": "stream",
     "text": [
      "[ 3  5 12]\n"
     ]
    },
    {
     "data": {
      "text/plain": [
       "array([ 7, 15,  1,  8])"
      ]
     },
     "execution_count": 36,
     "metadata": {},
     "output_type": "execute_result"
    }
   ],
   "source": [
    "#create arrays for this problem\n",
    "a = np.array([12, 5, 7, 15, 3, 1, 8])\n",
    "b = np.array([14, 6, 3, 11, 19, 12, 5])\n",
    "\n",
    "#Fins intersection values\n",
    "c = np.intersect1d(a,b)\n",
    "\n",
    "#remove intersection values from array a\n",
    "d = a[(a != 3)&(a != 5)&(a != 12)]\n",
    "d\n"
   ]
  },
  {
   "cell_type": "markdown",
   "metadata": {},
   "source": [
    "## Question 4"
   ]
  },
  {
   "cell_type": "markdown",
   "metadata": {},
   "source": [
    "Approach: The first step of this problem is to create an array of cummulative values of the miles traveled. Because the problem stated \"by hand\", I manually entered 35 values (with 4 days of rest) to add up to the miles from NYC to Key West. The second step is to find the difference. I did this by duplicating the cummulative array and adding the value 0 to it. From here I can now subtract the elements of the array (while ensureing they are the same length) to find the distance traveled each day. Lastly, I created a function to print this difference along with the day of the trip."
   ]
  },
  {
   "cell_type": "code",
   "execution_count": 28,
   "metadata": {},
   "outputs": [
    {
     "name": "stdout",
     "output_type": "stream",
     "text": [
      "I rode  35  miles on day  1\n",
      "I rode  85  miles on day  2\n",
      "I rode  26  miles on day  3\n",
      "I rode  49  miles on day  4\n",
      "I rode  30  miles on day  5\n",
      "I rode  43  miles on day  6\n",
      "I rode  33  miles on day  7\n",
      "I rode  44  miles on day  8\n",
      "I rode  41  miles on day  9\n",
      "I rode  24  miles on day  10\n",
      "I rode  0  miles on day  11\n",
      "I rode  35  miles on day  12\n",
      "I rode  51  miles on day  13\n",
      "I rode  29  miles on day  14\n",
      "I rode  53  miles on day  15\n",
      "I rode  26  miles on day  16\n",
      "I rode  61  miles on day  17\n",
      "I rode  49  miles on day  18\n",
      "I rode  72  miles on day  19\n",
      "I rode  39  miles on day  20\n",
      "I rode  0  miles on day  21\n",
      "I rode  42  miles on day  22\n",
      "I rode  48  miles on day  23\n",
      "I rode  86  miles on day  24\n",
      "I rode  114  miles on day  25\n",
      "I rode  0  miles on day  26\n",
      "I rode  77  miles on day  27\n",
      "I rode  43  miles on day  28\n",
      "I rode  65  miles on day  29\n",
      "I rode  76  miles on day  30\n",
      "I rode  0  miles on day  31\n",
      "I rode  39  miles on day  32\n",
      "I rode  35  miles on day  33\n",
      "I rode  36  miles on day  34\n",
      "I rode  33  miles on day  35\n"
     ]
    }
   ],
   "source": [
    "#for reference, there are 1519 miles from NYC to Key West via bike\n",
    "\n",
    "#the cummulative array are the values that you recorded \"by hand\"\n",
    "#enter values for 35 days and then add 4 days of breaks until the sum is 1519 miles to replicate this\n",
    "cummulative = np.array([35, 120, 146, 195, 225,\n",
    "                        268, 301, 345, 386, 410, \n",
    "                        410, 445, 496, 525, 578, \n",
    "                        604, 665, 714, 786, 825, \n",
    "                        825, 867, 915, 1001, 1115, \n",
    "                        1115, 1192, 1235, 1300, 1376, \n",
    "                        1376, 1415, 1450, 1486, 1519])\n",
    "\n",
    "#create another array with the values 0 inserted as the first value\n",
    "cummulative_extend = np.insert(cummulative, 0, 0)\n",
    "\n",
    "#create array 'miles' by subtracting the first 35  values of\n",
    "#cummulative_ extended array from the original cummulative array to give the difference\n",
    "miles = cummulative[:35] - cummulative_extend[:35]\n",
    "\n",
    "#define function to print the miles traveled each day with the day number\n",
    "def miles_per_day(n):\n",
    "    for i in miles:\n",
    "        n = n + 1\n",
    "        print('I rode ', i, ' miles on day ', n)\n",
    "        \n",
    "#use function above starting from the first day\n",
    "miles_per_day(0)\n"
   ]
  },
  {
   "cell_type": "markdown",
   "metadata": {},
   "source": [
    "## Question 5"
   ]
  },
  {
   "cell_type": "code",
   "execution_count": 32,
   "metadata": {},
   "outputs": [
    {
     "data": {
      "text/plain": [
       "numpy.ndarray"
      ]
     },
     "execution_count": 32,
     "metadata": {},
     "output_type": "execute_result"
    }
   ],
   "source": [
    "#this is the given code from the problem\n",
    "import pandas\n",
    "import numpy as np\n",
    "\n",
    "# supress scientific notation\n",
    "np.set_printoptions(suppress = True)\n",
    "\n",
    "# read the data file from GitHub and convert to a NumPy ndarray object\n",
    "nyc_water = pandas.read_csv('https://raw.githubusercontent.com/jtopor/DAV-5400/master/Week4/Water_Consumption_In_The_New_York_City.csv').values\n",
    "\n",
    "# verify you have an ndarray object\n",
    "type(nyc_water)"
   ]
  },
  {
   "cell_type": "markdown",
   "metadata": {},
   "source": [
    "Appraoch: First, I made 1 dimensional arrays to represent each column of the table. From here I could easily use numpy commands from the documentation to find the information required to answer each part of this problem."
   ]
  },
  {
   "cell_type": "code",
   "execution_count": 66,
   "metadata": {},
   "outputs": [
    {
     "name": "stdout",
     "output_type": "stream",
     "text": [
      "1512.0  is the maximum NYC water concumption in millions of gallons per day.\n",
      "39  is the number of calendar years in this data set.\n",
      "160.30769230769232  is the mean per capita daily water consumption.\n",
      "31.51894330370624  is the standard deviation of the per capita daily water consumption.\n",
      "The array of population difference is  [-30461.   17602.   19864.   72119.   53290.   39540.   45192.   23230.\n",
      "  11243.   -9544.   -8525.   38851.   54443.   77222.   64292.   62582.\n",
      "  64772.   75631.   84816.   89401.   60618.   16685.5  16685.5  16685.5\n",
      "  16685.5  16685.5  16685.5  16685.5  16685.5  16685.5  16685.5 108965.\n",
      "  77081.   61281.   49530.   44512.   21171.   85025. ]\n"
     ]
    }
   ],
   "source": [
    "#create array for year\n",
    "year = nyc_water[:,0]\n",
    "\n",
    "#create array for nyc population\n",
    "new_york_city_population = nyc_water[:,1]\n",
    "\n",
    "#create array for consumption in millions of gallons per day\n",
    "nyc_consumption_million_gallons_per_day = nyc_water[:,2]\n",
    "\n",
    "#create array for per capita daily water consumption\n",
    "per_capita_gallons_per_person_per_day = nyc_water[:,3]\n",
    "\n",
    "\n",
    "#PART A\n",
    "#find max of consumption array\n",
    "a = np.max(nyc_consumption_million_gallons_per_day)\n",
    "\n",
    "print( a, ' is the maximum NYC water concumption in millions of gallons per day.')\n",
    "\n",
    "\n",
    "#PART B - 40 years since computer start counting from 0\n",
    "#find length of the year array\n",
    "b = len(year)\n",
    "print(b, ' is the number of calendar years in this data set.')\n",
    "\n",
    "#PART C\n",
    "#find the mean and std of per_capita_gallons_per_person_per_day array using numpy functions\n",
    "c1 = np.mean(per_capita_gallons_per_person_per_day)\n",
    "c2 = np.std(per_capita_gallons_per_person_per_day)\n",
    "\n",
    "print(c1, ' is the mean per capita daily water consumption.') \n",
    "print(c2, ' is the standard deviation of the per capita daily water consumption.')\n",
    "\n",
    "#PART D\n",
    "#find the difference of array values of the population array using numpy's diff command\n",
    "pop_diff = np.diff(new_york_city_population)\n",
    "\n",
    "print('The array of population difference is ', pop_diff)"
   ]
  },
  {
   "cell_type": "code",
   "execution_count": 48,
   "metadata": {},
   "outputs": [
    {
     "data": {
      "text/plain": [
       "array([[   1979. , 7102100. ,    1512. ,     213. ],\n",
       "       [   1980. , 7071639. ,    1506. ,     213. ],\n",
       "       [   1981. , 7089241. ,    1309. ,     185. ],\n",
       "       [   1982. , 7109105. ,    1382. ,     194. ],\n",
       "       [   1983. , 7181224. ,    1424. ,     198. ],\n",
       "       [   1984. , 7234514. ,    1465. ,     203. ],\n",
       "       [   1985. , 7274054. ,    1326. ,     182. ],\n",
       "       [   1986. , 7319246. ,    1351. ,     185. ],\n",
       "       [   1987. , 7342476. ,    1447. ,     197. ],\n",
       "       [   1988. , 7353719. ,    1484. ,     202. ],\n",
       "       [   1989. , 7344175. ,    1402. ,     191. ],\n",
       "       [   1990. , 7335650. ,    1424. ,     194. ],\n",
       "       [   1991. , 7374501. ,    1469. ,     199. ],\n",
       "       [   1992. , 7428944. ,    1369. ,     184. ],\n",
       "       [   1993. , 7506166. ,    1368.5,     182. ],\n",
       "       [   1994. , 7570458. ,    1357.7,     179. ],\n",
       "       [   1995. , 7633040. ,    1325.7,     174. ],\n",
       "       [   1996. , 7697812. ,    1297.9,     169. ],\n",
       "       [   1997. , 7773443. ,    1205.5,     155. ],\n",
       "       [   1998. , 7858259. ,    1219.5,     155. ],\n",
       "       [   1999. , 7947660. ,    1237.2,     156. ],\n",
       "       [   2000. , 8008278. ,    1240.4,     155. ],\n",
       "       [   2001. , 8024963.5,    1184. ,     148. ],\n",
       "       [   2002. , 8041649. ,    1135.6,     141. ],\n",
       "       [   2003. , 8058334.5,    1093.7,     136. ],\n",
       "       [   2004. , 8075020. ,    1099.5,     136. ],\n",
       "       [   2005. , 8091705.5,    1138. ,     141. ],\n",
       "       [   2006. , 8108391. ,    1069. ,     132. ],\n",
       "       [   2007. , 8125076.5,    1114. ,     137. ],\n",
       "       [   2008. , 8141762. ,    1098. ,     135. ],\n",
       "       [   2009. , 8158447.5,    1007.5,     123. ],\n",
       "       [   2010. , 8175133. ,    1039. ,     127. ],\n",
       "       [   2011. , 8284098. ,    1021. ,     123. ],\n",
       "       [   2012. , 8361179. ,    1009.1,     121. ],\n",
       "       [   2013. , 8422460. ,    1006.1,     119. ],\n",
       "       [   2014. , 8471990. ,     996. ,     118. ],\n",
       "       [   2015. , 8516502. ,    1009. ,     118. ],\n",
       "       [   2016. , 8537673. ,    1002. ,     117. ],\n",
       "       [   2017. , 8622698. ,     990.2,     115. ]])"
      ]
     },
     "execution_count": 48,
     "metadata": {},
     "output_type": "execute_result"
    }
   ],
   "source": [
    "nyc_water"
   ]
  },
  {
   "cell_type": "code",
   "execution_count": null,
   "metadata": {},
   "outputs": [],
   "source": []
  }
 ],
 "metadata": {
  "kernelspec": {
   "display_name": "Python 3",
   "language": "python",
   "name": "python3"
  },
  "language_info": {
   "codemirror_mode": {
    "name": "ipython",
    "version": 3
   },
   "file_extension": ".py",
   "mimetype": "text/x-python",
   "name": "python",
   "nbconvert_exporter": "python",
   "pygments_lexer": "ipython3",
   "version": "3.8.3"
  }
 },
 "nbformat": 4,
 "nbformat_minor": 4
}
